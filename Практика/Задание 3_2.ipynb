{
 "cells": [
  {
   "cell_type": "code",
   "execution_count": 1,
   "metadata": {},
   "outputs": [
    {
     "name": "stdout",
     "output_type": "stream",
     "text": [
      "[1, 4, 9, 16, 25, 36, 49, 64, 81, 100, 121, 144, 169, 196, 225, 256, 289, 324, 361, 400, 441, 484, 529, 576, 625, 676, 729, 784, 841, 900, 961]\n"
     ]
    }
   ],
   "source": [
    "my_list = [ i**2 for i in range (1, 100) if i**2 <1000]\n",
    "print (list)"
   ]
  },
  {
   "cell_type": "code",
   "execution_count": 14,
   "metadata": {},
   "outputs": [
    {
     "name": "stdout",
     "output_type": "stream",
     "text": [
      "(1, 2, 3, 4, 5, 6, 7, 8, 9, 10, 11, 12, 13, 14, 15, 16, 17, 18, 19, 20)\n",
      "(5, 6, 7, 8, 9, 10, 11, 12, 13, 14, 15)\n",
      "(14, 15, 16, 17, 18, 19, 20)\n",
      "(7, 9, 11, 13)\n"
     ]
    }
   ],
   "source": [
    "my_tuple = tuple (i for i in range (1,21))\n",
    "print (my_tuple)\n",
    "\n",
    "Sl_tuple = my_tuple [4 : 15: 1]\n",
    "print (Sl_tuple)\n",
    "\n",
    "Sl2_tuple = my_tuple [-7 :]\n",
    "print (Sl2_tuple)\n",
    "\n",
    "Sl3_tuple = my_tuple [6 : 13 : 2]\n",
    "print (Sl3_tuple)"
   ]
  },
  {
   "cell_type": "code",
   "execution_count": null,
   "metadata": {},
   "outputs": [],
   "source": []
  }
 ],
 "metadata": {
  "kernelspec": {
   "display_name": "Python 3",
   "language": "python",
   "name": "python3"
  },
  "language_info": {
   "codemirror_mode": {
    "name": "ipython",
    "version": 3
   },
   "file_extension": ".py",
   "mimetype": "text/x-python",
   "name": "python",
   "nbconvert_exporter": "python",
   "pygments_lexer": "ipython3",
   "version": "3.7.6"
  }
 },
 "nbformat": 4,
 "nbformat_minor": 2
}
